{
 "cells": [
  {
   "cell_type": "markdown",
   "id": "840bade9",
   "metadata": {},
   "source": [
    "# Preparation"
   ]
  },
  {
   "cell_type": "markdown",
   "id": "a16729d2",
   "metadata": {},
   "source": [
    "## Import library"
   ]
  },
  {
   "cell_type": "code",
   "execution_count": 25,
   "id": "fb665ed1",
   "metadata": {},
   "outputs": [],
   "source": [
    "import cubo\n",
    "import spyndex\n",
    "import xarray as xr\n",
    "from dask.distributed import Client\n",
    "from dask.distributed import LocalCluster\n",
    "import dask.dataframe as dd\n",
    "import rioxarray\n",
    "import geopandas as gpd\n",
    "import pandas as pd\n",
    "import planetary_computer\n",
    "from sklearn.ensemble import RandomForestRegressor\n",
    "from sklearn.metrics import (\n",
    "    mean_squared_error,\n",
    "    r2_score,\n",
    "    mean_absolute_error,\n",
    "    root_mean_squared_error,\n",
    ")\n",
    "from sklearn.datasets import make_regression\n",
    "from sklearn.model_selection import train_test_split\n",
    "from sklearn.model_selection import GridSearchCV\n",
    "import os\n",
    "from pathlib import Path\n",
    "import numpy as np\n",
    "import rioxarray as rxr\n",
    "from glob import glob\n",
    "import datetime\n",
    "from shapely.geometry import Polygon\n",
    "import seaborn as sns\n",
    "import matplotlib.pyplot as plt\n",
    "import scipy\n",
    "import folium\n",
    "import gc"
   ]
  },
  {
   "cell_type": "code",
   "execution_count": 26,
   "id": "e78cc831",
   "metadata": {},
   "outputs": [],
   "source": [
    "def check_and_create_folder(folder_path: Path) -> None:\n",
    "    if not os.path.exists(folder_path):\n",
    "        os.makedirs(folder_path)"
   ]
  },
  {
   "cell_type": "code",
   "execution_count": 27,
   "id": "5261b771",
   "metadata": {},
   "outputs": [
    {
     "name": "stdout",
     "output_type": "stream",
     "text": [
      "Total pixel data filtered with sensor: 19756496\n"
     ]
    },
    {
     "data": {
      "text/html": [
       "<div>\n",
       "<style scoped>\n",
       "    .dataframe tbody tr th:only-of-type {\n",
       "        vertical-align: middle;\n",
       "    }\n",
       "\n",
       "    .dataframe tbody tr th {\n",
       "        vertical-align: top;\n",
       "    }\n",
       "\n",
       "    .dataframe thead th {\n",
       "        text-align: right;\n",
       "    }\n",
       "</style>\n",
       "<table border=\"1\" class=\"dataframe\">\n",
       "  <thead>\n",
       "    <tr style=\"text-align: right;\">\n",
       "      <th></th>\n",
       "      <th>time</th>\n",
       "      <th>Unnamed: 0</th>\n",
       "      <th>x</th>\n",
       "      <th>y</th>\n",
       "      <th>B02</th>\n",
       "      <th>B03</th>\n",
       "      <th>B04</th>\n",
       "      <th>B08</th>\n",
       "      <th>NDTI</th>\n",
       "      <th>NDWI</th>\n",
       "      <th>SCL</th>\n",
       "      <th>turbidity</th>\n",
       "    </tr>\n",
       "  </thead>\n",
       "  <tbody>\n",
       "    <tr>\n",
       "      <th>0</th>\n",
       "      <td>2023-10-02 23:52:29</td>\n",
       "      <td>0</td>\n",
       "      <td>537750.0</td>\n",
       "      <td>6889860.0</td>\n",
       "      <td>0.1295</td>\n",
       "      <td>0.1243</td>\n",
       "      <td>0.1214</td>\n",
       "      <td>0.1916</td>\n",
       "      <td>NaN</td>\n",
       "      <td>NaN</td>\n",
       "      <td>3.0</td>\n",
       "      <td>NaN</td>\n",
       "    </tr>\n",
       "    <tr>\n",
       "      <th>1</th>\n",
       "      <td>2023-10-02 23:52:29</td>\n",
       "      <td>1</td>\n",
       "      <td>537750.0</td>\n",
       "      <td>6889870.0</td>\n",
       "      <td>0.1294</td>\n",
       "      <td>0.1246</td>\n",
       "      <td>0.1202</td>\n",
       "      <td>0.1910</td>\n",
       "      <td>NaN</td>\n",
       "      <td>NaN</td>\n",
       "      <td>3.0</td>\n",
       "      <td>NaN</td>\n",
       "    </tr>\n",
       "    <tr>\n",
       "      <th>2</th>\n",
       "      <td>2023-10-02 23:52:29</td>\n",
       "      <td>2</td>\n",
       "      <td>537750.0</td>\n",
       "      <td>6889880.0</td>\n",
       "      <td>0.1298</td>\n",
       "      <td>0.1264</td>\n",
       "      <td>0.1237</td>\n",
       "      <td>0.2082</td>\n",
       "      <td>NaN</td>\n",
       "      <td>NaN</td>\n",
       "      <td>3.0</td>\n",
       "      <td>NaN</td>\n",
       "    </tr>\n",
       "    <tr>\n",
       "      <th>3</th>\n",
       "      <td>2023-10-02 23:52:29</td>\n",
       "      <td>3</td>\n",
       "      <td>537750.0</td>\n",
       "      <td>6889890.0</td>\n",
       "      <td>0.1295</td>\n",
       "      <td>0.1284</td>\n",
       "      <td>0.1236</td>\n",
       "      <td>0.2048</td>\n",
       "      <td>NaN</td>\n",
       "      <td>NaN</td>\n",
       "      <td>3.0</td>\n",
       "      <td>NaN</td>\n",
       "    </tr>\n",
       "    <tr>\n",
       "      <th>4</th>\n",
       "      <td>2023-10-02 23:52:29</td>\n",
       "      <td>4</td>\n",
       "      <td>537750.0</td>\n",
       "      <td>6889900.0</td>\n",
       "      <td>0.1305</td>\n",
       "      <td>0.1268</td>\n",
       "      <td>0.1228</td>\n",
       "      <td>0.1958</td>\n",
       "      <td>NaN</td>\n",
       "      <td>NaN</td>\n",
       "      <td>3.0</td>\n",
       "      <td>NaN</td>\n",
       "    </tr>\n",
       "  </tbody>\n",
       "</table>\n",
       "</div>"
      ],
      "text/plain": [
       "                 time  Unnamed: 0         x          y     B02     B03  \\\n",
       "0 2023-10-02 23:52:29           0  537750.0  6889860.0  0.1295  0.1243   \n",
       "1 2023-10-02 23:52:29           1  537750.0  6889870.0  0.1294  0.1246   \n",
       "2 2023-10-02 23:52:29           2  537750.0  6889880.0  0.1298  0.1264   \n",
       "3 2023-10-02 23:52:29           3  537750.0  6889890.0  0.1295  0.1284   \n",
       "4 2023-10-02 23:52:29           4  537750.0  6889900.0  0.1305  0.1268   \n",
       "\n",
       "      B04     B08  NDTI  NDWI  SCL  turbidity  \n",
       "0  0.1214  0.1916   NaN   NaN  3.0        NaN  \n",
       "1  0.1202  0.1910   NaN   NaN  3.0        NaN  \n",
       "2  0.1237  0.2082   NaN   NaN  3.0        NaN  \n",
       "3  0.1236  0.2048   NaN   NaN  3.0        NaN  \n",
       "4  0.1228  0.1958   NaN   NaN  3.0        NaN  "
      ]
     },
     "execution_count": 27,
     "metadata": {},
     "output_type": "execute_result"
    }
   ],
   "source": [
    "da = pd.read_csv(Path(\"./data\") / \"filtered_data.csv\")\n",
    "da[\"time\"] = pd.to_datetime(da[\"time\"])\n",
    "da = da.set_index(\"time\")\n",
    "da = da.reset_index()\n",
    "print(f\"Total pixel data filtered with sensor: {len(da)}\")\n",
    "da.head()"
   ]
  },
  {
   "cell_type": "code",
   "execution_count": 28,
   "id": "dd6c0db5",
   "metadata": {},
   "outputs": [
    {
     "name": "stdout",
     "output_type": "stream",
     "text": [
      "Total pixel data filtered with sensor without Nan: 42\n"
     ]
    },
    {
     "data": {
      "text/html": [
       "<div>\n",
       "<style scoped>\n",
       "    .dataframe tbody tr th:only-of-type {\n",
       "        vertical-align: middle;\n",
       "    }\n",
       "\n",
       "    .dataframe tbody tr th {\n",
       "        vertical-align: top;\n",
       "    }\n",
       "\n",
       "    .dataframe thead th {\n",
       "        text-align: right;\n",
       "    }\n",
       "</style>\n",
       "<table border=\"1\" class=\"dataframe\">\n",
       "  <thead>\n",
       "    <tr style=\"text-align: right;\">\n",
       "      <th></th>\n",
       "      <th>time</th>\n",
       "      <th>Unnamed: 0</th>\n",
       "      <th>x</th>\n",
       "      <th>y</th>\n",
       "      <th>B02</th>\n",
       "      <th>B03</th>\n",
       "      <th>B04</th>\n",
       "      <th>B08</th>\n",
       "      <th>NDTI</th>\n",
       "      <th>NDWI</th>\n",
       "      <th>SCL</th>\n",
       "      <th>turbidity</th>\n",
       "    </tr>\n",
       "  </thead>\n",
       "  <tbody>\n",
       "    <tr>\n",
       "      <th>84445</th>\n",
       "      <td>2023-10-02 23:52:29</td>\n",
       "      <td>84445</td>\n",
       "      <td>538570.0</td>\n",
       "      <td>6898730.0</td>\n",
       "      <td>0.1278</td>\n",
       "      <td>0.1311</td>\n",
       "      <td>0.1213</td>\n",
       "      <td>0.1224</td>\n",
       "      <td>-0.038827</td>\n",
       "      <td>0.034320</td>\n",
       "      <td>5.0</td>\n",
       "      <td>1.9</td>\n",
       "    </tr>\n",
       "    <tr>\n",
       "      <th>91381</th>\n",
       "      <td>2023-10-02 23:52:29</td>\n",
       "      <td>91381</td>\n",
       "      <td>538640.0</td>\n",
       "      <td>6896760.0</td>\n",
       "      <td>0.1298</td>\n",
       "      <td>0.1320</td>\n",
       "      <td>0.1199</td>\n",
       "      <td>0.1240</td>\n",
       "      <td>-0.048035</td>\n",
       "      <td>0.031250</td>\n",
       "      <td>5.0</td>\n",
       "      <td>2.8</td>\n",
       "    </tr>\n",
       "    <tr>\n",
       "      <th>301236</th>\n",
       "      <td>2023-10-02 23:52:29</td>\n",
       "      <td>301236</td>\n",
       "      <td>540700.0</td>\n",
       "      <td>6896170.0</td>\n",
       "      <td>0.1220</td>\n",
       "      <td>0.1237</td>\n",
       "      <td>0.1175</td>\n",
       "      <td>0.1132</td>\n",
       "      <td>-0.025705</td>\n",
       "      <td>0.044322</td>\n",
       "      <td>6.0</td>\n",
       "      <td>3.0</td>\n",
       "    </tr>\n",
       "    <tr>\n",
       "      <th>1405663</th>\n",
       "      <td>2023-10-12 23:52:29</td>\n",
       "      <td>1405663</td>\n",
       "      <td>541300.0</td>\n",
       "      <td>6895080.0</td>\n",
       "      <td>0.1232</td>\n",
       "      <td>0.1273</td>\n",
       "      <td>0.1146</td>\n",
       "      <td>0.1113</td>\n",
       "      <td>-0.052501</td>\n",
       "      <td>0.067058</td>\n",
       "      <td>5.0</td>\n",
       "      <td>1.9</td>\n",
       "    </tr>\n",
       "    <tr>\n",
       "      <th>1472364</th>\n",
       "      <td>2023-10-12 23:52:29</td>\n",
       "      <td>1472364</td>\n",
       "      <td>541950.0</td>\n",
       "      <td>6899740.0</td>\n",
       "      <td>0.1148</td>\n",
       "      <td>0.1189</td>\n",
       "      <td>0.1092</td>\n",
       "      <td>0.1117</td>\n",
       "      <td>-0.042525</td>\n",
       "      <td>0.031223</td>\n",
       "      <td>5.0</td>\n",
       "      <td>1.9</td>\n",
       "    </tr>\n",
       "  </tbody>\n",
       "</table>\n",
       "</div>"
      ],
      "text/plain": [
       "                       time  Unnamed: 0         x          y     B02     B03  \\\n",
       "84445   2023-10-02 23:52:29       84445  538570.0  6898730.0  0.1278  0.1311   \n",
       "91381   2023-10-02 23:52:29       91381  538640.0  6896760.0  0.1298  0.1320   \n",
       "301236  2023-10-02 23:52:29      301236  540700.0  6896170.0  0.1220  0.1237   \n",
       "1405663 2023-10-12 23:52:29     1405663  541300.0  6895080.0  0.1232  0.1273   \n",
       "1472364 2023-10-12 23:52:29     1472364  541950.0  6899740.0  0.1148  0.1189   \n",
       "\n",
       "            B04     B08      NDTI      NDWI  SCL  turbidity  \n",
       "84445    0.1213  0.1224 -0.038827  0.034320  5.0        1.9  \n",
       "91381    0.1199  0.1240 -0.048035  0.031250  5.0        2.8  \n",
       "301236   0.1175  0.1132 -0.025705  0.044322  6.0        3.0  \n",
       "1405663  0.1146  0.1113 -0.052501  0.067058  5.0        1.9  \n",
       "1472364  0.1092  0.1117 -0.042525  0.031223  5.0        1.9  "
      ]
     },
     "execution_count": 28,
     "metadata": {},
     "output_type": "execute_result"
    }
   ],
   "source": [
    "filtered_data = da[(da[\"turbidity\"].notna() & da[\"NDTI\"].notna())]\n",
    "print(f\"Total pixel data filtered with sensor without Nan: {len(filtered_data)}\")\n",
    "filtered_data.head()"
   ]
  },
  {
   "cell_type": "code",
   "execution_count": 64,
   "id": "66b147c6",
   "metadata": {},
   "outputs": [
    {
     "data": {
      "image/png": "[encoded data removed]",
      "text/plain": [
       "<Figure size 1000x1000 with 2 Axes>"
      ]
     },
     "metadata": {},
     "output_type": "display_data"
    }
   ],
   "source": [
    "check_and_create_folder(Path(\"./data\") / \"plot\")\n",
    "fig, ax1 = plt.subplots(figsize=(10, 10))\n",
    "ax2 = ax1.twinx()\n",
    "# sns.lineplot(\n",
    "#     data=filtered_data,\n",
    "#     x=\"time\",\n",
    "#     y=\"NDTI\",\n",
    "#     errorbar=None,\n",
    "#     ax=ax1,\n",
    "#     color=\"skyblue\",\n",
    "#     label=\"NDTI\",\n",
    "# )\n",
    "sns.scatterplot(\n",
    "    data=filtered_data,\n",
    "    x=\"time\",\n",
    "    y=\"NDTI\",\n",
    "    ax=ax1,\n",
    "    color=\"skyblue\",\n",
    "    label=\"NDTI\",\n",
    ")\n",
    "ax1.set_ylabel(\"NDTI\")\n",
    "# ax1.legend(loc=0)\n",
    "# sns.lineplot(\n",
    "#     data=filtered_data,\n",
    "#     x=\"time\",\n",
    "#     y=\"turbidity\",\n",
    "#     errorbar=None,\n",
    "#     ax=ax2,\n",
    "#     color=\"green\",\n",
    "#     label=\"Field data\",\n",
    "# )\n",
    "sns.scatterplot(\n",
    "    data=filtered_data,\n",
    "    x=\"time\",\n",
    "    y=\"turbidity\",\n",
    "    ax=ax2,\n",
    "    color=\"green\",\n",
    "    label=\"Field data\",\n",
    ")\n",
    "ax2.set_ylabel(\"Field Data (NTU)\")\n",
    "# ax2.legend(loc=0)\n",
    "lines_1, labels_1 = ax1.get_legend_handles_labels()\n",
    "lines_2, labels_2 = ax2.get_legend_handles_labels()\n",
    "ax1.legend(lines_1 + lines_2, labels_1 + labels_2, loc=\"upper left\")\n",
    "ax2.legend(lines_1 + lines_2, labels_1 + labels_2, loc=\"upper left\")\n",
    "plt.title(\"NDTI and Field data Turbidity only at field data measurement date\")\n",
    "plt.savefig(\n",
    "    Path(\"./data\")\n",
    "    / \"plot\"\n",
    "    / \"NDTI and Field data Turbidity only at field data measurement date.png\"\n",
    ")\n",
    "plt.show()"
   ]
  },
  {
   "cell_type": "code",
   "execution_count": 30,
   "id": "361b529f",
   "metadata": {},
   "outputs": [
    {
     "name": "stdout",
     "output_type": "stream",
     "text": [
      "PearsonRResult(statistic=0.6464535950929766, pvalue=3.751142472701673e-06)\n",
      "LinregressResult(slope=122.12813173841347, intercept=7.995500864672037, rvalue=0.6464535950929767, pvalue=3.751142472701654e-06, stderr=22.790104832133306, intercept_stderr=0.7972916282283711)\n"
     ]
    }
   ],
   "source": [
    "print(scipy.stats.pearsonr(filtered_data[\"NDTI\"], filtered_data[\"turbidity\"]))\n",
    "print(scipy.stats.linregress(filtered_data[\"NDTI\"], filtered_data[\"turbidity\"]))\n",
    "\n",
    "ln_stat = scipy.stats.linregress(filtered_data[\"NDTI\"], filtered_data[\"turbidity\"])"
   ]
  },
  {
   "cell_type": "code",
   "execution_count": 31,
   "id": "0c9ed40d",
   "metadata": {},
   "outputs": [
    {
     "data": {
      "text/plain": [
       "46.44405348506353"
      ]
     },
     "execution_count": 31,
     "metadata": {},
     "output_type": "execute_result"
    }
   ],
   "source": [
    "mse = mean_squared_error(filtered_data[\"turbidity\"], filtered_data[\"NDTI\"])\n",
    "mse"
   ]
  },
  {
   "cell_type": "code",
   "execution_count": 32,
   "id": "ace79421",
   "metadata": {},
   "outputs": [
    {
     "data": {
      "text/plain": [
       "4.989341818380607"
      ]
     },
     "execution_count": 32,
     "metadata": {},
     "output_type": "execute_result"
    }
   ],
   "source": [
    "mae = mean_absolute_error(filtered_data[\"turbidity\"], filtered_data[\"NDTI\"])\n",
    "mae"
   ]
  },
  {
   "cell_type": "code",
   "execution_count": 33,
   "id": "811bbb29",
   "metadata": {},
   "outputs": [
    {
     "data": {
      "text/plain": [
       "6.814987416354012"
      ]
     },
     "execution_count": 33,
     "metadata": {},
     "output_type": "execute_result"
    }
   ],
   "source": [
    "rmse = root_mean_squared_error(filtered_data[\"turbidity\"], filtered_data[\"NDTI\"])\n",
    "rmse"
   ]
  },
  {
   "cell_type": "code",
   "execution_count": 68,
   "id": "90dd5ff5",
   "metadata": {},
   "outputs": [
    {
     "data": {
      "image/png": "[encoded data removed]",
      "text/plain": [
       "<Figure size 500x500 with 1 Axes>"
      ]
     },
     "metadata": {},
     "output_type": "display_data"
    }
   ],
   "source": [
    "pl = sns.lmplot(x=\"NDTI\", y=\"turbidity\", data=filtered_data, fit_reg=True, height=5)\n",
    "pl.set_ylabels(\"Field Data Turbidity (NTU)\")\n",
    "\n",
    "\n",
    "def annotate(data, **kws):\n",
    "    ax = plt.gca()\n",
    "    ax.text(\n",
    "        0.05,\n",
    "        0.9,\n",
    "        \"r={:.2f}, r^2:{:.2g}, p={:.2g} \".format(\n",
    "            ln_stat.rvalue,\n",
    "            ln_stat.rvalue**2,\n",
    "            ln_stat.pvalue,\n",
    "        ),\n",
    "        transform=ax.transAxes,\n",
    "    )\n",
    "\n",
    "\n",
    "pl.map_dataframe(annotate)\n",
    "\n",
    "plt.title(\"NDTI and Field data Turbidity Regresion Line\")\n",
    "plt.savefig(Path(\"./data\") / \"plot\" / \"NDTI and Field data Regresion Line.png\")\n",
    "\n",
    "plt.show()"
   ]
  },
  {
   "cell_type": "code",
   "execution_count": 35,
   "id": "7f32ceb0",
   "metadata": {},
   "outputs": [],
   "source": [
    "# filtered_data_hist = filtered_data.loc[\n",
    "#     :,\n",
    "#     (filtered_data.columns != \"x\") & (filtered_data.columns != \"y\"),\n",
    "# ]\n",
    "# sns.pairplot(filtered_data_hist, hue=\"turbidity\", palette=\"coolwarm\")\n",
    "# plt.show()"
   ]
  },
  {
   "cell_type": "markdown",
   "id": "8a0d7a3f",
   "metadata": {},
   "source": [
    "# RF Regresion"
   ]
  },
  {
   "cell_type": "code",
   "execution_count": 36,
   "id": "c66e13e1",
   "metadata": {},
   "outputs": [],
   "source": [
    "filtered_data = filtered_data.sample(frac=1)"
   ]
  },
  {
   "cell_type": "code",
   "execution_count": 37,
   "id": "817dbdb8",
   "metadata": {},
   "outputs": [
    {
     "data": {
      "text/html": [
       "<div>\n",
       "<style scoped>\n",
       "    .dataframe tbody tr th:only-of-type {\n",
       "        vertical-align: middle;\n",
       "    }\n",
       "\n",
       "    .dataframe tbody tr th {\n",
       "        vertical-align: top;\n",
       "    }\n",
       "\n",
       "    .dataframe thead th {\n",
       "        text-align: right;\n",
       "    }\n",
       "</style>\n",
       "<table border=\"1\" class=\"dataframe\">\n",
       "  <thead>\n",
       "    <tr style=\"text-align: right;\">\n",
       "      <th></th>\n",
       "      <th>B02</th>\n",
       "      <th>B03</th>\n",
       "      <th>B04</th>\n",
       "      <th>B08</th>\n",
       "      <th>NDTI</th>\n",
       "      <th>NDWI</th>\n",
       "      <th>SCL</th>\n",
       "    </tr>\n",
       "  </thead>\n",
       "  <tbody>\n",
       "    <tr>\n",
       "      <th>17865142</th>\n",
       "      <td>0.1198</td>\n",
       "      <td>0.1229</td>\n",
       "      <td>0.1117</td>\n",
       "      <td>0.1069</td>\n",
       "      <td>-0.047741</td>\n",
       "      <td>0.069626</td>\n",
       "      <td>6.0</td>\n",
       "    </tr>\n",
       "    <tr>\n",
       "      <th>11706200</th>\n",
       "      <td>0.1114</td>\n",
       "      <td>0.1216</td>\n",
       "      <td>0.1147</td>\n",
       "      <td>0.1085</td>\n",
       "      <td>-0.029200</td>\n",
       "      <td>0.056932</td>\n",
       "      <td>6.0</td>\n",
       "    </tr>\n",
       "    <tr>\n",
       "      <th>7690896</th>\n",
       "      <td>0.1135</td>\n",
       "      <td>0.1193</td>\n",
       "      <td>0.1089</td>\n",
       "      <td>0.1087</td>\n",
       "      <td>-0.045574</td>\n",
       "      <td>0.046491</td>\n",
       "      <td>5.0</td>\n",
       "    </tr>\n",
       "    <tr>\n",
       "      <th>12808409</th>\n",
       "      <td>0.1131</td>\n",
       "      <td>0.1224</td>\n",
       "      <td>0.1081</td>\n",
       "      <td>0.1103</td>\n",
       "      <td>-0.062039</td>\n",
       "      <td>0.051998</td>\n",
       "      <td>6.0</td>\n",
       "    </tr>\n",
       "    <tr>\n",
       "      <th>12875110</th>\n",
       "      <td>0.1112</td>\n",
       "      <td>0.1166</td>\n",
       "      <td>0.1052</td>\n",
       "      <td>0.1169</td>\n",
       "      <td>-0.051398</td>\n",
       "      <td>-0.001285</td>\n",
       "      <td>5.0</td>\n",
       "    </tr>\n",
       "  </tbody>\n",
       "</table>\n",
       "</div>"
      ],
      "text/plain": [
       "             B02     B03     B04     B08      NDTI      NDWI  SCL\n",
       "17865142  0.1198  0.1229  0.1117  0.1069 -0.047741  0.069626  6.0\n",
       "11706200  0.1114  0.1216  0.1147  0.1085 -0.029200  0.056932  6.0\n",
       "7690896   0.1135  0.1193  0.1089  0.1087 -0.045574  0.046491  5.0\n",
       "12808409  0.1131  0.1224  0.1081  0.1103 -0.062039  0.051998  6.0\n",
       "12875110  0.1112  0.1166  0.1052  0.1169 -0.051398 -0.001285  5.0"
      ]
     },
     "execution_count": 37,
     "metadata": {},
     "output_type": "execute_result"
    }
   ],
   "source": [
    "X = filtered_data.loc[\n",
    "    :,\n",
    "    (filtered_data.columns != \"turbidity\")\n",
    "    & (filtered_data.columns != \"time\")\n",
    "    & (filtered_data.columns != \"x\")\n",
    "    & (filtered_data.columns != \"y\")\n",
    "    & (filtered_data.columns != \"Unnamed: 0\"),\n",
    "]\n",
    "X.head()"
   ]
  },
  {
   "cell_type": "code",
   "execution_count": 38,
   "id": "a77fbfe9",
   "metadata": {},
   "outputs": [
    {
     "data": {
      "text/html": [
       "<div>\n",
       "<style scoped>\n",
       "    .dataframe tbody tr th:only-of-type {\n",
       "        vertical-align: middle;\n",
       "    }\n",
       "\n",
       "    .dataframe tbody tr th {\n",
       "        vertical-align: top;\n",
       "    }\n",
       "\n",
       "    .dataframe thead th {\n",
       "        text-align: right;\n",
       "    }\n",
       "</style>\n",
       "<table border=\"1\" class=\"dataframe\">\n",
       "  <thead>\n",
       "    <tr style=\"text-align: right;\">\n",
       "      <th></th>\n",
       "      <th>turbidity</th>\n",
       "    </tr>\n",
       "  </thead>\n",
       "  <tbody>\n",
       "    <tr>\n",
       "      <th>17865142</th>\n",
       "      <td>5.1</td>\n",
       "    </tr>\n",
       "    <tr>\n",
       "      <th>11706200</th>\n",
       "      <td>6.0</td>\n",
       "    </tr>\n",
       "    <tr>\n",
       "      <th>7690896</th>\n",
       "      <td>2.1</td>\n",
       "    </tr>\n",
       "    <tr>\n",
       "      <th>12808409</th>\n",
       "      <td>1.2</td>\n",
       "    </tr>\n",
       "    <tr>\n",
       "      <th>12875110</th>\n",
       "      <td>1.2</td>\n",
       "    </tr>\n",
       "  </tbody>\n",
       "</table>\n",
       "</div>"
      ],
      "text/plain": [
       "          turbidity\n",
       "17865142        5.1\n",
       "11706200        6.0\n",
       "7690896         2.1\n",
       "12808409        1.2\n",
       "12875110        1.2"
      ]
     },
     "execution_count": 38,
     "metadata": {},
     "output_type": "execute_result"
    }
   ],
   "source": [
    "y = filtered_data.loc[:, filtered_data.columns == \"turbidity\"]\n",
    "y.head()"
   ]
  },
  {
   "cell_type": "code",
   "execution_count": 39,
   "id": "09ab73d3",
   "metadata": {},
   "outputs": [],
   "source": [
    "random_state = 42"
   ]
  },
  {
   "cell_type": "code",
   "execution_count": 40,
   "id": "1a5f24e3",
   "metadata": {},
   "outputs": [],
   "source": [
    "X_train, X_test, y_train, y_test = train_test_split(\n",
    "    X, y, test_size=0.2, random_state=random_state\n",
    ")"
   ]
  },
  {
   "cell_type": "code",
   "execution_count": 41,
   "id": "4b149e59",
   "metadata": {},
   "outputs": [],
   "source": [
    "rf_regresor = RandomForestRegressor(random_state=random_state)"
   ]
  },
  {
   "cell_type": "code",
   "execution_count": null,
   "id": "e4eaee14",
   "metadata": {},
   "outputs": [],
   "source": [
    "rf_regresor.fit(X, y)"
   ]
  },
  {
   "cell_type": "code",
   "execution_count": 43,
   "id": "6f22e4b5",
   "metadata": {},
   "outputs": [
    {
     "name": "stdout",
     "output_type": "stream",
     "text": [
      "MSE:  0.34738122222222073\n",
      "MAE:  0.445222222222221\n",
      "R2:  0.9616022393558954\n",
      "RMSE:  0.5893905515209934\n"
     ]
    }
   ],
   "source": [
    "y_pred = rf_regresor.predict(X_test)\n",
    "mse = mean_squared_error(y_test, y_pred)\n",
    "mae = mean_absolute_error(y_test, y_pred)\n",
    "r2 = r2_score(y_test, y_pred)\n",
    "rmse = root_mean_squared_error(y_test, y_pred)\n",
    "print(\"MSE: \", mse)\n",
    "print(\"MAE: \", mae)\n",
    "print(\"R2: \", r2)\n",
    "print(\"RMSE: \", rmse)"
   ]
  },
  {
   "cell_type": "code",
   "execution_count": 44,
   "id": "bc808c66",
   "metadata": {},
   "outputs": [],
   "source": [
    "param_grid = {\n",
    "    \"n_estimators\": [50, 100, 200],\n",
    "    \"max_depth\": [None, 10, 20, 30],\n",
    "    \"min_samples_split\": [2, 5, 10],\n",
    "    \"min_samples_leaf\": np.linspace(0, 0.1, 10),\n",
    "}\n",
    "\n",
    "# Set up GridSearchCV\n",
    "grid_search = GridSearchCV(\n",
    "    estimator=rf_regresor,\n",
    "    param_grid=param_grid,\n",
    "    verbose=3,\n",
    "    cv=5,  # 5 fold cross validation\n",
    "    scoring=\"r2\",\n",
    "    n_jobs=-1,\n",
    ")"
   ]
  },
  {
   "cell_type": "code",
   "execution_count": null,
   "id": "dde2001e",
   "metadata": {},
   "outputs": [],
   "source": [
    "%time\n",
    "grid_search.fit(X_train, y_train)"
   ]
  },
  {
   "cell_type": "code",
   "execution_count": 46,
   "id": "47159cba",
   "metadata": {},
   "outputs": [
    {
     "name": "stdout",
     "output_type": "stream",
     "text": [
      "Best Parameters: {'max_depth': None, 'min_samples_leaf': 0.07777777777777778, 'min_samples_split': 2, 'n_estimators': 50}\n",
      "Best Score: 0.6649300074259211\n"
     ]
    }
   ],
   "source": [
    "print(\"Best Parameters:\", grid_search.best_params_)\n",
    "print(\"Best Score:\", grid_search.best_score_)"
   ]
  },
  {
   "cell_type": "code",
   "execution_count": 47,
   "id": "1165e127",
   "metadata": {},
   "outputs": [
    {
     "name": "stdout",
     "output_type": "stream",
     "text": [
      "Test Score: 0.8091227866900419\n"
     ]
    }
   ],
   "source": [
    "best_model = grid_search.best_estimator_\n",
    "test_score = best_model.score(X_test, y_test)\n",
    "print(\"Test Score:\", test_score)"
   ]
  }
 ],
 "metadata": {
  "kernelspec": {
   "display_name": "GEOM7001 Project Brief (3.12.3)",
   "language": "python",
   "name": "python3"
  },
  "language_info": {
   "codemirror_mode": {
    "name": "ipython",
    "version": 3
   },
   "file_extension": ".py",
   "mimetype": "text/x-python",
   "name": "python",
   "nbconvert_exporter": "python",
   "pygments_lexer": "ipython3",
   "version": "3.12.3"
  }
 },
 "nbformat": 4,
 "nbformat_minor": 5
}
